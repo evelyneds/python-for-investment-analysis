{
  "nbformat": 4,
  "nbformat_minor": 0,
  "metadata": {
    "colab": {
      "name": "Probabilidade e estatística",
      "provenance": [],
      "collapsed_sections": [],
      "authorship_tag": "ABX9TyP+uiTXi39AAa1yQHBUyuWg",
      "include_colab_link": true
    },
    "kernelspec": {
      "name": "python3",
      "display_name": "Python 3"
    },
    "language_info": {
      "name": "python"
    }
  },
  "cells": [
    {
      "cell_type": "markdown",
      "metadata": {
        "id": "view-in-github",
        "colab_type": "text"
      },
      "source": [
        "<a href=\"https://colab.research.google.com/github/evelynsantos/python-for-investment-analysis/blob/main/Probabilidade_e_estat%C3%ADstica.ipynb\" target=\"_parent\"><img src=\"https://colab.research.google.com/assets/colab-badge.svg\" alt=\"Open In Colab\"/></a>"
      ]
    },
    {
      "cell_type": "markdown",
      "metadata": {
        "id": "XFPQ7xEez10p"
      },
      "source": [
        "#Probabilidade e estatística\n",
        "\n",
        "* scipy\n",
        "*matplotlib"
      ]
    },
    {
      "cell_type": "code",
      "metadata": {
        "id": "KpXugRrvz26E"
      },
      "source": [
        "import numpy as np\n",
        "from scipy import stats\n",
        "import matplotlib.pyplot as plt\n"
      ],
      "execution_count": null,
      "outputs": []
    },
    {
      "cell_type": "code",
      "metadata": {
        "colab": {
          "base_uri": "https://localhost:8080/"
        },
        "id": "vaIAMK2i0saH",
        "outputId": "b88da2ed-b5d5-412f-a767-9f58d2963ca4"
      },
      "source": [
        "stats.norm.rvs(size=10, loc=0, scale = 1) ##, random_state=10"
      ],
      "execution_count": null,
      "outputs": [
        {
          "output_type": "execute_result",
          "data": {
            "text/plain": [
              "array([ 1.09116453, -0.62404677, -0.63274376,  1.02200533,  1.4553186 ,\n",
              "        1.8577627 , -0.30455983,  0.0753298 , -0.17240329,  0.04335756])"
            ]
          },
          "metadata": {
            "tags": []
          },
          "execution_count": 26
        }
      ]
    },
    {
      "cell_type": "code",
      "metadata": {
        "id": "WjiYtrRz1FGY"
      },
      "source": [
        "#Gerar 10 número aleatórios\n",
        "x = stats.norm.rvs(size=10, loc=0, scale=1)"
      ],
      "execution_count": null,
      "outputs": []
    },
    {
      "cell_type": "code",
      "metadata": {
        "colab": {
          "base_uri": "https://localhost:8080/"
        },
        "id": "w92M7tML1zoH",
        "outputId": "0f89b7b8-f1ee-4984-c429-495f1a0d2172"
      },
      "source": [
        "print(x)\n",
        "print(type(x))"
      ],
      "execution_count": null,
      "outputs": [
        {
          "output_type": "stream",
          "text": [
            "[ 1.6318615   0.83697077  0.26868754  0.74216478  0.4575246  -0.01110038\n",
            "  0.47407677 -1.15219556  0.1330037   1.50461383]\n",
            "<class 'numpy.ndarray'>\n"
          ],
          "name": "stdout"
        }
      ]
    },
    {
      "cell_type": "code",
      "metadata": {
        "colab": {
          "base_uri": "https://localhost:8080/"
        },
        "id": "ByIRyqMP15eN",
        "outputId": "3f75e4fa-a96f-48d9-c991-4d62a65e6960"
      },
      "source": [
        "#estatísticas\n",
        "x.mean() #média"
      ],
      "execution_count": null,
      "outputs": [
        {
          "output_type": "execute_result",
          "data": {
            "text/plain": [
              "0.4885607531486583"
            ]
          },
          "metadata": {
            "tags": []
          },
          "execution_count": 29
        }
      ]
    },
    {
      "cell_type": "code",
      "metadata": {
        "colab": {
          "base_uri": "https://localhost:8080/"
        },
        "id": "vacHqzFq2ItI",
        "outputId": "83297130-9a10-4994-9416-33f7bcfa1257"
      },
      "source": [
        "x.var() #variância"
      ],
      "execution_count": null,
      "outputs": [
        {
          "output_type": "execute_result",
          "data": {
            "text/plain": [
              "0.5642885615536156"
            ]
          },
          "metadata": {
            "tags": []
          },
          "execution_count": 30
        }
      ]
    },
    {
      "cell_type": "code",
      "metadata": {
        "colab": {
          "base_uri": "https://localhost:8080/"
        },
        "id": "o2L6A41g2QKs",
        "outputId": "81517568-de3e-4758-e635-1044ca2c02ee"
      },
      "source": [
        "x.std() #desvio padrão"
      ],
      "execution_count": null,
      "outputs": [
        {
          "output_type": "execute_result",
          "data": {
            "text/plain": [
              "0.751191428035235"
            ]
          },
          "metadata": {
            "tags": []
          },
          "execution_count": 31
        }
      ]
    },
    {
      "cell_type": "code",
      "metadata": {
        "colab": {
          "base_uri": "https://localhost:8080/"
        },
        "id": "Bc2LXYAJ2Swc",
        "outputId": "12ca7c46-1b4a-428c-eab1-0d1c3336258e"
      },
      "source": [
        "x.min() #menor valor"
      ],
      "execution_count": null,
      "outputs": [
        {
          "output_type": "execute_result",
          "data": {
            "text/plain": [
              "-1.1521955645216557"
            ]
          },
          "metadata": {
            "tags": []
          },
          "execution_count": 32
        }
      ]
    },
    {
      "cell_type": "code",
      "metadata": {
        "colab": {
          "base_uri": "https://localhost:8080/"
        },
        "id": "EPkq6R4X2VAv",
        "outputId": "9ae73efa-9184-41b8-9cd4-49550fb8e781"
      },
      "source": [
        "x.max() #maior valor"
      ],
      "execution_count": null,
      "outputs": [
        {
          "output_type": "execute_result",
          "data": {
            "text/plain": [
              "1.6318615031655288"
            ]
          },
          "metadata": {
            "tags": []
          },
          "execution_count": 33
        }
      ]
    },
    {
      "cell_type": "code",
      "metadata": {
        "colab": {
          "base_uri": "https://localhost:8080/"
        },
        "id": "96joTkGa2XjU",
        "outputId": "e01ad510-b5ff-4c86-cbe1-eed67e830723"
      },
      "source": [
        "#0.5 representa a metade\n",
        "#0.25 representa 25% dos dados, o quantio é o valor que representa 25% deles 1º quartil\n",
        "#0.75 é o 3ª quartil\n",
        "\n",
        "np.quantile(x,0.5) #Quanti "
      ],
      "execution_count": null,
      "outputs": [
        {
          "output_type": "execute_result",
          "data": {
            "text/plain": [
              "0.4658006842345339"
            ]
          },
          "metadata": {
            "tags": []
          },
          "execution_count": 35
        }
      ]
    },
    {
      "cell_type": "code",
      "metadata": {
        "colab": {
          "base_uri": "https://localhost:8080/",
          "height": 350
        },
        "id": "UiIIHSnC2fx8",
        "outputId": "dec2fcb7-8bd2-450d-a2d3-db891da89e08"
      },
      "source": [
        "#Plotar o histograma da distribuição dos dados\n",
        "plt.hist(x)"
      ],
      "execution_count": null,
      "outputs": [
        {
          "output_type": "execute_result",
          "data": {
            "text/plain": [
              "(array([1., 0., 0., 0., 2., 3., 1., 1., 0., 2.]),\n",
              " array([-1.15219556, -0.87378986, -0.59538415, -0.31697844, -0.03857274,\n",
              "         0.23983297,  0.51823868,  0.79664438,  1.07505009,  1.3534558 ,\n",
              "         1.6318615 ]),\n",
              " <a list of 10 Patch objects>)"
            ]
          },
          "metadata": {
            "tags": []
          },
          "execution_count": 36
        },
        {
          "output_type": "display_data",
          "data": {
            "image/png": "[encoded data removed]",
            "text/plain": [
              "<Figure size 432x288 with 1 Axes>"
            ]
          },
          "metadata": {
            "tags": [],
            "needs_background": "light"
          }
        }
      ]
    },
    {
      "cell_type": "code",
      "metadata": {
        "colab": {
          "base_uri": "https://localhost:8080/",
          "height": 265
        },
        "id": "pitA59B13RId",
        "outputId": "2e15e1e0-8fd2-4f07-bb6a-0ae04bbb2ee9"
      },
      "source": [
        "plt.hist(x);"
      ],
      "execution_count": null,
      "outputs": [
        {
          "output_type": "display_data",
          "data": {
            "image/png": "[encoded data removed]",
            "text/plain": [
              "<Figure size 432x288 with 1 Axes>"
            ]
          },
          "metadata": {
            "tags": [],
            "needs_background": "light"
          }
        }
      ]
    },
    {
      "cell_type": "code",
      "metadata": {
        "colab": {
          "base_uri": "https://localhost:8080/"
        },
        "id": "RHzb_s7H3aUQ",
        "outputId": "2efd0c9d-d1de-470b-9aa0-66db620d8401"
      },
      "source": [
        "y= stats.norm.rvs(size=30, loc=0, scale=1, random_state=2)\n",
        "print(y)"
      ],
      "execution_count": null,
      "outputs": [
        {
          "output_type": "stream",
          "text": [
            "[-0.41675785 -0.05626683 -2.1361961   1.64027081 -1.79343559 -0.84174737\n",
            "  0.50288142 -1.24528809 -1.05795222 -0.90900761  0.55145404  2.29220801\n",
            "  0.04153939 -1.11792545  0.53905832 -0.5961597  -0.0191305   1.17500122\n",
            " -0.74787095  0.00902525 -0.87810789 -0.15643417  0.25657045 -0.98877905\n",
            " -0.33882197 -0.23618403 -0.63765501 -1.18761229 -1.42121723 -0.1534952 ]\n"
          ],
          "name": "stdout"
        }
      ]
    },
    {
      "cell_type": "code",
      "metadata": {
        "colab": {
          "base_uri": "https://localhost:8080/"
        },
        "id": "stRxdgp33_OM",
        "outputId": "e8d4ca71-1150-4a4d-9693-f3ecbe878d85"
      },
      "source": [
        "#estatísticas\n",
        "print('Média = ',y.mean())\n",
        "print(\"Desvio Padrão = \", y.std())\n",
        "print(\"Variancia = \", y.var())\n",
        "print(\"Mínimo= \", y.min())\n",
        "print(\"Máximo = \", y.max())\n",
        "print(\"1º Quartil = \", np.quantile(y,0.25))\n",
        "print(\"Mediana = \", np.quantile(y,0.5))\n",
        "print(\"2º Quartil = \", np.quantile(y,0.75))\n",
        "print(\"Percentil 95 = \", np.quantile(y,0.85))\n",
        "print(\"Percentil em 99 = \", np.quantile(y,0.99))\n"
      ],
      "execution_count": null,
      "outputs": [
        {
          "output_type": "stream",
          "text": [
            "Média =  -0.3309345381477089\n",
            "Desvio Padrão =  0.950185070628388\n",
            "Variancia =  0.9028516684450746\n",
            "Mínimo=  -2.136196095668454\n",
            "Máximo =  2.2922080128149576\n",
            "1º Quartil =  -0.9688361903089286\n",
            "Mediana =  -0.3777899067173335\n",
            "2º Quartil =  0.03341085749213388\n",
            "Percentil 95 =  0.5263964043828278\n",
            "Percentil em 99 =  2.103146223536067\n"
          ],
          "name": "stdout"
        }
      ]
    },
    {
      "cell_type": "code",
      "metadata": {
        "colab": {
          "base_uri": "https://localhost:8080/",
          "height": 265
        },
        "id": "MaUKYrkB4M_V",
        "outputId": "f50b847e-3fb1-4755-90c4-397a89cfac60"
      },
      "source": [
        "plt.hist(y);"
      ],
      "execution_count": null,
      "outputs": [
        {
          "output_type": "display_data",
          "data": {
            "image/png": "[encoded data removed]",
            "text/plain": [
              "<Figure size 432x288 with 1 Axes>"
            ]
          },
          "metadata": {
            "tags": [],
            "needs_background": "light"
          }
        }
      ]
    },
    {
      "cell_type": "code",
      "metadata": {
        "colab": {
          "base_uri": "https://localhost:8080/",
          "height": 265
        },
        "id": "sqjk3vCy5nwW",
        "outputId": "4e58a1cc-88ce-42bc-8336-ef18af592e82"
      },
      "source": [
        "#Plotagem do histograma da distribuição aculumada dos dados\n",
        "plt.hist(x, cumulative= True);"
      ],
      "execution_count": null,
      "outputs": [
        {
          "output_type": "display_data",
          "data": {
            "image/png": "[encoded data removed]",
            "text/plain": [
              "<Figure size 432x288 with 1 Axes>"
            ]
          },
          "metadata": {
            "tags": [],
            "needs_background": "light"
          }
        }
      ]
    },
    {
      "cell_type": "code",
      "metadata": {
        "colab": {
          "base_uri": "https://localhost:8080/"
        },
        "id": "33BCbLYs55x1",
        "outputId": "297bdc45-8c60-4c75-d1a1-d285bd246cf0"
      },
      "source": [
        "stats.norm.rvs(size=100, loc = x.mean(), scale = x.std())"
      ],
      "execution_count": null,
      "outputs": [
        {
          "output_type": "execute_result",
          "data": {
            "text/plain": [
              "array([ 1.47250109e+00, -1.42850673e+00, -3.73238319e-01,  1.41692776e+00,\n",
              "        2.79521711e-01,  1.15386132e+00,  1.00276019e+00, -9.93103977e-01,\n",
              "        2.20043052e-01,  3.88480755e-01,  8.31319167e-01,  5.05763897e-01,\n",
              "        1.28540830e+00, -1.74630836e-01,  1.01814735e+00,  3.29017935e-01,\n",
              "        2.53296173e-01,  1.11264409e+00,  1.94662691e-01,  1.06718390e+00,\n",
              "        9.79599373e-01,  2.07123939e-01,  1.88132818e+00,  1.50008127e+00,\n",
              "        7.13866412e-01, -6.52782324e-01,  1.03331766e+00,  5.72913372e-01,\n",
              "        1.85492900e-01,  8.73887301e-01,  7.97536501e-01,  3.23033243e-01,\n",
              "        9.00947626e-02,  3.30130742e-01,  1.11560232e+00, -6.78302444e-01,\n",
              "        1.19606339e-01,  1.08724253e+00,  5.21051894e-01,  1.04261246e+00,\n",
              "        3.61996567e-01,  9.28887795e-01,  1.48243215e+00,  1.42888833e+00,\n",
              "        6.17558140e-01,  2.78149054e-01, -4.32301375e-01, -6.82120685e-02,\n",
              "        7.08203029e-01, -3.60915029e-01,  9.40866518e-01, -4.72287613e-01,\n",
              "       -9.92983375e-02,  1.93675792e-01,  4.55818666e-01,  3.10476657e-01,\n",
              "        6.98298883e-01,  1.28788691e+00,  7.81626305e-04, -4.81696371e-01,\n",
              "       -9.11240368e-02,  2.10541179e+00,  6.78988656e-01,  1.49650565e+00,\n",
              "        7.77705925e-01,  6.54767836e-01,  1.05427209e-01,  1.09702523e+00,\n",
              "        3.48628317e-01, -1.58898312e-01, -3.10156886e-01, -6.15341222e-01,\n",
              "       -2.21167739e-01,  8.22979040e-01,  1.38176631e+00, -1.18283285e-01,\n",
              "        8.47355691e-01,  1.25841556e+00,  8.45698204e-01,  3.71937289e-01,\n",
              "        7.21925441e-01,  2.57198122e-01, -1.56812162e+00, -9.42659122e-02,\n",
              "       -2.30823921e-01,  2.27669563e+00,  6.32982673e-01, -6.86026197e-01,\n",
              "        1.03970710e-01,  1.29223010e+00, -1.90595004e-01,  6.47669660e-01,\n",
              "        7.45827563e-01,  1.11162533e+00,  5.54910519e-01,  1.08362014e-01,\n",
              "        4.46904348e-01,  1.07506973e+00,  8.50480060e-01, -1.28125342e+00])"
            ]
          },
          "metadata": {
            "tags": []
          },
          "execution_count": 52
        }
      ]
    },
    {
      "cell_type": "markdown",
      "metadata": {
        "id": "Hlp8c5mo77WP"
      },
      "source": [
        "#Exercício 1:\n",
        "Gere 100 números aleatórios com média 0 e desvio-padrão de 0.25.\n",
        "Em seguida, apresente:\n",
        "* estatísticas descritivas\n",
        "* histograma da distribuição\n",
        "* histograma da distribuição acumulada"
      ]
    },
    {
      "cell_type": "code",
      "metadata": {
        "colab": {
          "base_uri": "https://localhost:8080/"
        },
        "id": "pDOejbLA7_kV",
        "outputId": "8063385b-cdf5-413d-fa5f-e77567ec7ce2"
      },
      "source": [
        "x = stats.norm.rvs(size = 100, loc = 0, scale = 0.25)\n",
        "print(x)"
      ],
      "execution_count": null,
      "outputs": [
        {
          "output_type": "stream",
          "text": [
            "[-0.20593517 -0.23064477  0.30367978  0.05101947 -0.18345893 -0.02570407\n",
            " -0.22780035  0.14753968 -0.19124762  0.16216772  0.07302989  0.33978356\n",
            " -0.11723534 -0.34922232  0.31234275 -0.06896702  0.02412494 -0.07013525\n",
            " -0.1891972  -0.04345482  0.26271405 -0.32892991 -0.28808666  0.05210651\n",
            "  0.31389358 -0.0893838   0.27676487 -0.05541498  0.03326074  0.23841171\n",
            " -0.22130376 -0.15587659 -0.09105395  0.07605106 -0.29201987 -0.26250281\n",
            " -0.40757738 -0.13475699  0.22270099  0.09217603  0.02719633 -0.16273173\n",
            " -0.22264486  0.02023508 -0.2165485  -0.04223813  0.0850115   0.25906646\n",
            " -0.21868867  0.19041847 -0.30916796 -0.27960278 -0.01213964  0.0465354\n",
            " -0.33145175  0.18426182 -0.03717005 -0.04387821 -0.08707025 -0.1566405\n",
            " -0.53623465  0.62643704 -0.25561583  0.09867646 -0.53177275 -0.14222808\n",
            "  0.20351588  0.16316381 -0.14589071  0.12116705 -0.28939008  0.28052412\n",
            "  0.06169124  0.18436633  0.42015647  0.16423408  0.12526673 -0.24822709\n",
            " -0.06603785  0.14251002  0.05465847  0.39601602 -0.51951581 -0.05055176\n",
            "  0.21463052 -0.40990141  0.06164644  0.05127042  0.18474578 -0.29241346\n",
            "  0.1319524  -0.07747866  0.05382094  0.22829148 -0.36779026  0.05138117\n",
            "  0.3076775   0.24000212 -0.0317687   0.13856069]\n"
          ],
          "name": "stdout"
        }
      ]
    },
    {
      "cell_type": "code",
      "metadata": {
        "colab": {
          "base_uri": "https://localhost:8080/"
        },
        "id": "7yg0TKpG8Ddj",
        "outputId": "bcc5d9f3-13b3-45bb-c155-c84a48d3a4a0"
      },
      "source": [
        "# Calcular as estatísticas\n",
        "print('Média =',x.mean())\n",
        "print('Desvio padrão =',x.std())\n",
        "print('Variância',x.var())\n",
        "print('Mínimo =',x.min())\n",
        "print('Máximo =', x.max())\n",
        "print('1º Quartil =',np.quantile(x, 0.25))\n",
        "print('Mediana =',np.quantile(x, 0.5))\n",
        "print('3º Quartil =',np.quantile(x, 0.75))\n",
        "print('Percentil 95 =',np.quantile(x, 0.95))\n",
        "print('Percentil em 99 =',np.quantile(x, 0.99))"
      ],
      "execution_count": null,
      "outputs": [
        {
          "output_type": "stream",
          "text": [
            "Média = -0.018138441513405427\n",
            "Desvio padrão = 0.22781490010077768\n",
            "Variância 0.05189962870792731\n",
            "Mínimo = -0.536234651740718\n",
            "Máximo = 0.6264370413890556\n",
            "1º Quartil = -0.19491950641442768\n",
            "Mediana = -0.018921854231450437\n",
            "3º Quartil = 0.15119669031939137\n",
            "Percentil 95 = 0.31242029422770917\n",
            "Percentil em 99 = 0.42221927175152263\n"
          ],
          "name": "stdout"
        }
      ]
    },
    {
      "cell_type": "code",
      "metadata": {
        "colab": {
          "base_uri": "https://localhost:8080/",
          "height": 265
        },
        "id": "p8Ryla6q8d5u",
        "outputId": "198ec289-49ad-4dc0-c249-82fa8f648ecd"
      },
      "source": [
        "plt.hist(x, cumulative = True);"
      ],
      "execution_count": null,
      "outputs": [
        {
          "output_type": "display_data",
          "data": {
            "image/png": "[encoded data removed]",
            "text/plain": [
              "<Figure size 432x288 with 1 Axes>"
            ]
          },
          "metadata": {
            "tags": [],
            "needs_background": "light"
          }
        }
      ]
    },
    {
      "cell_type": "markdown",
      "metadata": {
        "id": "N19dUQfVHrdv"
      },
      "source": [
        "##Probabilidade e Estatística - Parte 2\n",
        "Cálculo probabilísticos e estatísticos a partir de uma amostra\n",
        "Gráficos estatísticos:\n",
        "* Histograma\n",
        "* Função densidade\n",
        "* Função de distribuição acumulada"
      ]
    },
    {
      "cell_type": "markdown",
      "metadata": {
        "id": "cX_0wzK9IBuH"
      },
      "source": [
        "#Calculando probabilidades a partir de uma amostra"
      ]
    },
    {
      "cell_type": "code",
      "metadata": {
        "id": "3BYyoCblIEG1"
      },
      "source": [
        "# Calculando probabilidades a partir de dados amostrais\n",
        "dados =[0.1713121 , -0.94178833,  0.90113072, -0.32224054, -0.11003698,\n",
        "        0.17292458, -0.06966996,  1.22646954, -0.03807049,  0.273321  ,\n",
        "       -0.11527694, -0.36276586,  0.01022822,  0.64653007, -0.6309282 ,\n",
        "       -1.3035549 ,  0.5507314 ,  0.51978391, -0.5801249 ,  0.22607765,\n",
        "        0.94761816,  0.43404857, -1.20751202,  0.2206801 , -0.3648752 ,\n",
        "       -0.11349805,  0.71822464,  0.14350895,  0.51282284, -0.27626823,\n",
        "        0.82527611, -0.70979429,  1.06057943, -0.10407392, -0.41991315,\n",
        "        0.48449775,  0.44642573, -0.22878105, -0.66738472,  0.2150243 ,\n",
        "        0.02035657,  0.87115282, -0.06929537, -0.34376195, -0.69148071]"
      ],
      "execution_count": null,
      "outputs": []
    },
    {
      "cell_type": "code",
      "metadata": {
        "colab": {
          "base_uri": "https://localhost:8080/"
        },
        "id": "U-P6DdcBIJAm",
        "outputId": "e80aebc3-e222-465d-95e5-35b57e63593b"
      },
      "source": [
        "# Calcular a probabilidade pela f(x): densidade para uma distribuição Normal\n",
        "# contar a quantidade de elementos\n",
        "len(dados)"
      ],
      "execution_count": null,
      "outputs": [
        {
          "output_type": "execute_result",
          "data": {
            "text/plain": [
              "45"
            ]
          },
          "metadata": {
            "tags": []
          },
          "execution_count": 73
        }
      ]
    },
    {
      "cell_type": "code",
      "metadata": {
        "id": "32Q6quvUIOxC"
      },
      "source": [
        "import numpy as np "
      ],
      "execution_count": null,
      "outputs": []
    },
    {
      "cell_type": "code",
      "metadata": {
        "colab": {
          "base_uri": "https://localhost:8080/",
          "height": 180
        },
        "id": "MyHtbs6uIfu2",
        "outputId": "1c5e1a52-9211-4b00-c553-e1857a1409c3"
      },
      "source": [
        "# Precisamos saber qual é a média e o desvio padrão dessa amostra para calcular por uma Normal\n",
        "dados.mean()#precisa transformar a lista dados em type numpy"
      ],
      "execution_count": null,
      "outputs": [
        {
          "output_type": "error",
          "ename": "AttributeError",
          "evalue": "ignored",
          "traceback": [
            "\u001b[0;31m---------------------------------------------------------------------------\u001b[0m",
            "\u001b[0;31mAttributeError\u001b[0m                            Traceback (most recent call last)",
            "\u001b[0;32m<ipython-input-77-614cd537236c>\u001b[0m in \u001b[0;36m<module>\u001b[0;34m()\u001b[0m\n\u001b[1;32m      1\u001b[0m \u001b[0;31m# Precisamos saber qual é a média e o desvio padrão dessa amostra para calcular por uma Normal\u001b[0m\u001b[0;34m\u001b[0m\u001b[0;34m\u001b[0m\u001b[0;34m\u001b[0m\u001b[0m\n\u001b[0;32m----> 2\u001b[0;31m \u001b[0mdados\u001b[0m\u001b[0;34m.\u001b[0m\u001b[0mmean\u001b[0m\u001b[0;34m(\u001b[0m\u001b[0;34m)\u001b[0m\u001b[0;31m#precisa transformar a lista dados em type numpy\u001b[0m\u001b[0;34m\u001b[0m\u001b[0;34m\u001b[0m\u001b[0m\n\u001b[0m",
            "\u001b[0;31mAttributeError\u001b[0m: 'list' object has no attribute 'mean'"
          ]
        }
      ]
    },
    {
      "cell_type": "code",
      "metadata": {
        "id": "S7EVIXvvItWy"
      },
      "source": [
        "dados = np.array(dados) #precisa transformar a lista dados em type numpy"
      ],
      "execution_count": null,
      "outputs": []
    },
    {
      "cell_type": "code",
      "metadata": {
        "colab": {
          "base_uri": "https://localhost:8080/"
        },
        "id": "UtF3uDCyI0e2",
        "outputId": "55237925-d329-4955-d3ff-4ae6651ea93c"
      },
      "source": [
        "dados.mean() #média"
      ],
      "execution_count": null,
      "outputs": [
        {
          "output_type": "execute_result",
          "data": {
            "text/plain": [
              "0.042836208888888894"
            ]
          },
          "metadata": {
            "tags": []
          },
          "execution_count": 79
        }
      ]
    },
    {
      "cell_type": "code",
      "metadata": {
        "colab": {
          "base_uri": "https://localhost:8080/"
        },
        "id": "Ic0QPeHHI2Mq",
        "outputId": "5af9ca3e-9368-419d-c8fb-c2d82e87f210"
      },
      "source": [
        "dados.std()"
      ],
      "execution_count": null,
      "outputs": [
        {
          "output_type": "execute_result",
          "data": {
            "text/plain": [
              "0.5859195967445794"
            ]
          },
          "metadata": {
            "tags": []
          },
          "execution_count": 80
        }
      ]
    },
    {
      "cell_type": "code",
      "metadata": {
        "id": "0JWmMAyCJAdZ"
      },
      "source": [
        "from scipy import stats"
      ],
      "execution_count": null,
      "outputs": []
    },
    {
      "cell_type": "markdown",
      "metadata": {
        "id": "DbLbdPYoJCmg"
      },
      "source": [
        "#Função densidade f(x)"
      ]
    },
    {
      "cell_type": "code",
      "metadata": {
        "colab": {
          "base_uri": "https://localhost:8080/"
        },
        "id": "1NlD2OA2JIne",
        "outputId": "da69d5d4-934c-461c-c6da-ec86265be925"
      },
      "source": [
        "#f(x): função pdf()\n",
        "stats.norm.pdf(dados, loc=dados.mean(), scale = dados.std()) \n",
        "# Informa a probalibilidade do dado do Array acontecer por exemplo, o item do array[0] tem a probabilidade de 66% de acontecer"
      ],
      "execution_count": null,
      "outputs": [
        {
          "output_type": "execute_result",
          "data": {
            "text/plain": [
              "array([0.66470896, 0.1659004 , 0.23286787, 0.56074879, 0.6580968 ,\n",
              "       0.66430545, 0.66844512, 0.08849343, 0.67442179, 0.63018813,\n",
              "       0.65653675, 0.53581306, 0.67982869, 0.4004519 , 0.35150506,\n",
              "       0.04857903, 0.46763525, 0.48886127, 0.38690209, 0.64838574,\n",
              "       0.20666512, 0.54483599, 0.06985535, 0.65022884, 0.53447594,\n",
              "       0.65707184, 0.35038514, 0.67090556, 0.49357714, 0.58703423,\n",
              "       0.27914639, 0.29838439, 0.15062636, 0.65981244, 0.49845376,\n",
              "       0.5124936 , 0.53708545, 0.61151464, 0.32660084, 0.65210638,\n",
              "       0.68038136, 0.2506633 , 0.66852705, 0.54769138, 0.3104564 ])"
            ]
          },
          "metadata": {
            "tags": []
          },
          "execution_count": 83
        }
      ]
    },
    {
      "cell_type": "code",
      "metadata": {
        "colab": {
          "base_uri": "https://localhost:8080/"
        },
        "id": "cEWKRioOJdMW",
        "outputId": "d8dcc835-8383-4363-ec86-ea4af1f8c1f8"
      },
      "source": [
        "#ordenar o vetor\n",
        "dados.sort()\n",
        "print(dados)"
      ],
      "execution_count": null,
      "outputs": [
        {
          "output_type": "stream",
          "text": [
            "[-1.3035549  -1.20751202 -0.94178833 -0.70979429 -0.69148071 -0.66738472\n",
            " -0.6309282  -0.5801249  -0.41991315 -0.3648752  -0.36276586 -0.34376195\n",
            " -0.32224054 -0.27626823 -0.22878105 -0.11527694 -0.11349805 -0.11003698\n",
            " -0.10407392 -0.06966996 -0.06929537 -0.03807049  0.01022822  0.02035657\n",
            "  0.14350895  0.1713121   0.17292458  0.2150243   0.2206801   0.22607765\n",
            "  0.273321    0.43404857  0.44642573  0.48449775  0.51282284  0.51978391\n",
            "  0.5507314   0.64653007  0.71822464  0.82527611  0.87115282  0.90113072\n",
            "  0.94761816  1.06057943  1.22646954]\n"
          ],
          "name": "stdout"
        }
      ]
    },
    {
      "cell_type": "code",
      "metadata": {
        "id": "dFuIJ9WPKRjP"
      },
      "source": [
        "#Calcular f(x): função pdf() salvando em objeto fx\n",
        "fx = stats.norm.pdf(dados, loc=dados.mean(), scale = dados.std()) "
      ],
      "execution_count": null,
      "outputs": []
    },
    {
      "cell_type": "code",
      "metadata": {
        "id": "jlp0DYLLK4Jv"
      },
      "source": [
        "import matplotlib.pyplot as plt"
      ],
      "execution_count": null,
      "outputs": []
    },
    {
      "cell_type": "code",
      "metadata": {
        "colab": {
          "base_uri": "https://localhost:8080/",
          "height": 283
        },
        "id": "7lM3bUhaKu9m",
        "outputId": "00358e1b-8113-4828-a3ba-0658f4af6e76"
      },
      "source": [
        "#plotar o grádico da função densidade que acabamos de criar f(x)\n",
        "plt.plot(dados,fx)"
      ],
      "execution_count": null,
      "outputs": [
        {
          "output_type": "execute_result",
          "data": {
            "text/plain": [
              "[<matplotlib.lines.Line2D at 0x7fba89c9e0d0>]"
            ]
          },
          "metadata": {
            "tags": []
          },
          "execution_count": 88
        },
        {
          "output_type": "display_data",
          "data": {
            "image/png": "[encoded data removed]",
            "text/plain": [
              "<Figure size 432x288 with 1 Axes>"
            ]
          },
          "metadata": {
            "tags": [],
            "needs_background": "light"
          }
        }
      ]
    },
    {
      "cell_type": "code",
      "metadata": {
        "colab": {
          "base_uri": "https://localhost:8080/",
          "height": 265
        },
        "id": "4K4M-90sK8az",
        "outputId": "b7c6858c-98f4-45a6-deb5-d2a0f0a5a1ef"
      },
      "source": [
        "plt.hist(dados, bins =10);"
      ],
      "execution_count": null,
      "outputs": [
        {
          "output_type": "display_data",
          "data": {
            "image/png": "[encoded data removed]",
            "text/plain": [
              "<Figure size 432x288 with 1 Axes>"
            ]
          },
          "metadata": {
            "tags": [],
            "needs_background": "light"
          }
        }
      ]
    },
    {
      "cell_type": "code",
      "metadata": {
        "id": "gb3OnC3GLKaS"
      },
      "source": [
        ""
      ],
      "execution_count": null,
      "outputs": []
    },
    {
      "cell_type": "markdown",
      "metadata": {
        "id": "pw85D8BjLNST"
      },
      "source": [
        "## Função de distribuição acumulada F(X)"
      ]
    },
    {
      "cell_type": "code",
      "metadata": {
        "colab": {
          "base_uri": "https://localhost:8080/"
        },
        "id": "7cTWuhHCLRhm",
        "outputId": "183a5f4a-185b-4514-9f96-40fc69182c2f"
      },
      "source": [
        "#Calcular a probabilidade da distribuição acumulada\n",
        "stats.norm.cdf(dados, loc = dados.mean(), scale = dados.std())"
      ],
      "execution_count": null,
      "outputs": [
        {
          "output_type": "execute_result",
          "data": {
            "text/plain": [
              "array([0.01078343, 0.01642168, 0.04643225, 0.09947853, 0.10505328,\n",
              "       0.11272798, 0.12508709, 0.14384122, 0.21482724, 0.24326178,\n",
              "       0.24439059, 0.25468649, 0.26661487, 0.29300692, 0.32147639,\n",
              "       0.39363602, 0.39480441, 0.39708036, 0.40100978, 0.42386468,\n",
              "       0.42411509, 0.44508663, 0.47780925, 0.48469777, 0.5682105 ,\n",
              "       0.586781  , 0.58785251, 0.61557392, 0.61925682, 0.62276151,\n",
              "       0.6529779 , 0.74783409, 0.75452978, 0.77451295, 0.78876257,\n",
              "       0.792182  , 0.80698359, 0.84857377, 0.87548285, 0.90912807,\n",
              "       0.92127552, 0.92852145, 0.93873107, 0.95880655, 0.97831501])"
            ]
          },
          "metadata": {
            "tags": []
          },
          "execution_count": 90
        }
      ]
    },
    {
      "cell_type": "code",
      "metadata": {
        "id": "uFTIRaxcP9Du"
      },
      "source": [
        "fx= stats.norm.cdf(dados, loc = dados.mean(), scale = dados.std())"
      ],
      "execution_count": null,
      "outputs": []
    },
    {
      "cell_type": "code",
      "metadata": {
        "colab": {
          "base_uri": "https://localhost:8080/",
          "height": 265
        },
        "id": "AVT5SwQyQEpp",
        "outputId": "19b8bbc2-fba4-476f-af53-0be96b69a209"
      },
      "source": [
        "plt.plot(dados,fx);"
      ],
      "execution_count": null,
      "outputs": [
        {
          "output_type": "display_data",
          "data": {
            "image/png": "[encoded data removed]",
            "text/plain": [
              "<Figure size 432x288 with 1 Axes>"
            ]
          },
          "metadata": {
            "tags": [],
            "needs_background": "light"
          }
        }
      ]
    },
    {
      "cell_type": "code",
      "metadata": {
        "colab": {
          "base_uri": "https://localhost:8080/"
        },
        "id": "D_dBgpKcQIiZ",
        "outputId": "aca9041b-b602-4057-8355-068e16f743ea"
      },
      "source": [
        "### Calcular as probabilidades acumuladas F(x) da Normal\n",
        "# P(X <= 1.65) = 0.95\n",
        "stats.norm.cdf(1.65, loc = 0, scale = 1)"
      ],
      "execution_count": null,
      "outputs": [
        {
          "output_type": "execute_result",
          "data": {
            "text/plain": [
              "0.9505285319663519"
            ]
          },
          "metadata": {
            "tags": []
          },
          "execution_count": 94
        }
      ]
    },
    {
      "cell_type": "code",
      "metadata": {
        "colab": {
          "base_uri": "https://localhost:8080/"
        },
        "id": "URbAhwR6QkDV",
        "outputId": "da50d30b-32ba-4e58-a2f0-e5f9da0e29f3"
      },
      "source": [
        "# P(X <= 2.33) = 0.99\n",
        "stats.norm.cdf(2.33, loc = 0, scale = 1)"
      ],
      "execution_count": null,
      "outputs": [
        {
          "output_type": "execute_result",
          "data": {
            "text/plain": [
              "0.9900969244408357"
            ]
          },
          "metadata": {
            "tags": []
          },
          "execution_count": 97
        }
      ]
    },
    {
      "cell_type": "code",
      "metadata": {
        "colab": {
          "base_uri": "https://localhost:8080/"
        },
        "id": "VG4zcaRjQaiw",
        "outputId": "6edd4756-f317-4012-902f-ac4a9df999b6"
      },
      "source": [
        "### Calcular as probabilidades acumuladas F(x) da Normal\n",
        "# P(X > 1.96)\n",
        "1-stats.norm.cdf(1.96, loc = 0, scale = 1)"
      ],
      "execution_count": null,
      "outputs": [
        {
          "output_type": "execute_result",
          "data": {
            "text/plain": [
              "0.024997895148220484"
            ]
          },
          "metadata": {
            "tags": []
          },
          "execution_count": 96
        }
      ]
    },
    {
      "cell_type": "code",
      "metadata": {
        "colab": {
          "base_uri": "https://localhost:8080/"
        },
        "id": "jSWKNEFxQ7aV",
        "outputId": "2f5b97ce-a591-4742-e533-04b491745cc8"
      },
      "source": [
        "# Podemos usar a função de sobrevivência S(x) (Qual a probabilidade de uma ação ter o retorno maior do que XXX% ?)\n",
        "stats.norm.sf(1.96, loc = 0, scale = 1)"
      ],
      "execution_count": null,
      "outputs": [
        {
          "output_type": "execute_result",
          "data": {
            "text/plain": [
              "0.024997895148220435"
            ]
          },
          "metadata": {
            "tags": []
          },
          "execution_count": 98
        }
      ]
    },
    {
      "cell_type": "code",
      "metadata": {
        "colab": {
          "base_uri": "https://localhost:8080/"
        },
        "id": "3QgG0DPgRIgN",
        "outputId": "5f421157-960a-44ba-856f-88d423b46e0a"
      },
      "source": [
        "# Calcular o quantil (Percentil) a partir de uma dada probabilidade\n",
        "# Qual o quantil de 95%?\n",
        "stats.norm.ppf(0.95, loc = 0, scale = 1)"
      ],
      "execution_count": null,
      "outputs": [
        {
          "output_type": "execute_result",
          "data": {
            "text/plain": [
              "1.6448536269514722"
            ]
          },
          "metadata": {
            "tags": []
          },
          "execution_count": 99
        }
      ]
    },
    {
      "cell_type": "code",
      "metadata": {
        "colab": {
          "base_uri": "https://localhost:8080/"
        },
        "id": "VJsmh1r1Rl5l",
        "outputId": "3603f71b-5151-456c-8714-6783c78b365c"
      },
      "source": [
        "# Qual o quantil de 99,9%?\n",
        "stats.norm.ppf(0.999, loc = 0, scale = 1)"
      ],
      "execution_count": null,
      "outputs": [
        {
          "output_type": "execute_result",
          "data": {
            "text/plain": [
              "3.090232306167813"
            ]
          },
          "metadata": {
            "tags": []
          },
          "execution_count": 100
        }
      ]
    },
    {
      "cell_type": "code",
      "metadata": {
        "id": "9r-c2q0MRyMx"
      },
      "source": [
        ""
      ],
      "execution_count": null,
      "outputs": []
    },
    {
      "cell_type": "markdown",
      "metadata": {
        "id": "amRjWzn0SRKc"
      },
      "source": [
        "### Exercício 2: Utilize os dados de retorno \n",
        "\n",
        "Calcule:\n",
        "\n",
        "1. quantidade, média, desvio padrão, variância, mínimo, máximo.\n",
        "2. a partir das estatísticas calculadas na letra a., faça a função densidade e acumulada\n",
        "3. a probabilidade de o retorno ser no máximo 0.3?\n",
        "4. a uma probabilidade de 5%, o valor de o retorno a partir da distribuição dos dados?\n",
        "5. a uma probabilidade de 1%, o valor de o retorno a partir da distribuição dos dados?"
      ]
    },
    {
      "cell_type": "code",
      "metadata": {
        "id": "2fAvQKmxSSzN"
      },
      "source": [
        "retorno = [ 0.64801373,  0.22143631,  0.32167264, -1.35282238, -0.5725962 ,\n",
        "            0.4470117 ,  0.682471  , -0.50665825,  0.41192004,  0.35197697,\n",
        "            0.30054583, -0.20591475, -0.39105041, -0.42226812, -0.69329165,\n",
        "            0.25234341,  0.07259922,  1.07193218,  0.75168738,  0.35194842,\n",
        "            -0.00456058, -1.87761573,  0.794482  ,  0.92632249, -0.05087003,\n",
        "            0.01938096,  0.03240923,  1.06483559,  0.17984258, -1.18150821,\n",
        "            -0.44900576, -0.58483928,  0.67837713,  1.37709956, -0.47966153,\n",
        "            -0.90005394,  0.42678323, -0.86168246,  0.30436027, -0.60464645,\n",
        "            -0.10986417,  0.29900189, -0.27343097,  1.05773158,  0.50116113,\n",
        "            0.46779467,  0.37157519,  0.94182919,  0.84679699,  0.93811364,\n",
        "            0.40593109, -1.57670645, -0.24421519,  0.10093531,  0.63139817,\n",
        "            1.01830906, -0.0361899 ,  1.03210686, -0.81907873, -0.43082182]\n"
      ],
      "execution_count": null,
      "outputs": []
    },
    {
      "cell_type": "code",
      "metadata": {
        "id": "o1onNiW2SZ5i"
      },
      "source": [
        "x = np.array(retorno)"
      ],
      "execution_count": null,
      "outputs": []
    },
    {
      "cell_type": "code",
      "metadata": {
        "colab": {
          "base_uri": "https://localhost:8080/"
        },
        "id": "ODRdQBW1Yj5v",
        "outputId": "d134754b-0f6d-4b55-f190-6c1fbb7dd266"
      },
      "source": [
        "print(\"qtd = \",len(x))\n",
        "print('Média =', x.mean())\n",
        "print('Desvio padrão =', x.std())\n",
        "print('Variância =', x.var())\n",
        "print('Mínimo =', x.min())\n",
        "print('Máximo =', x.max())"
      ],
      "execution_count": null,
      "outputs": [
        {
          "output_type": "stream",
          "text": [
            "qtd =  60\n",
            "Média = 0.09454639466666664\n",
            "Desvio padrão = 0.7027588065751273\n",
            "Variância = 0.4938699402188973\n",
            "Mínimo = -1.87761573\n",
            "Máximo = 1.37709956\n"
          ],
          "name": "stdout"
        }
      ]
    },
    {
      "cell_type": "code",
      "metadata": {
        "colab": {
          "base_uri": "https://localhost:8080/",
          "height": 265
        },
        "id": "SRsZ0pLwTH51",
        "outputId": "a57587ce-1768-44cf-9a67-9d93038b0280"
      },
      "source": [
        "#Calcular a probabilidade da distribuição acumulada\n",
        "x.sort()\n",
        "\n",
        "fx = stats.norm.pdf(x, loc = x.mean(), scale = x.std())\n",
        "\n",
        "plt.plot(x, fx);"
      ],
      "execution_count": null,
      "outputs": [
        {
          "output_type": "display_data",
          "data": {
            "image/png": "[encoded data removed]",
            "text/plain": [
              "<Figure size 432x288 with 1 Axes>"
            ]
          },
          "metadata": {
            "tags": [],
            "needs_background": "light"
          }
        }
      ]
    },
    {
      "cell_type": "code",
      "metadata": {
        "colab": {
          "base_uri": "https://localhost:8080/",
          "height": 266
        },
        "id": "7hEVZDO9TrkC",
        "outputId": "07c44780-aa7d-4f17-d252-9571c004523a"
      },
      "source": [
        "Fx = stats.norm.cdf(x, loc = x.mean(), scale = x.std())\n",
        "\n",
        "plt.plot(x, Fx);"
      ],
      "execution_count": null,
      "outputs": [
        {
          "output_type": "display_data",
          "data": {
            "image/png": "[encoded data removed]",
            "text/plain": [
              "<Figure size 432x288 with 1 Axes>"
            ]
          },
          "metadata": {
            "tags": [],
            "needs_background": "light"
          }
        }
      ]
    },
    {
      "cell_type": "code",
      "metadata": {
        "colab": {
          "base_uri": "https://localhost:8080/"
        },
        "id": "uCxbDFnqTuqa",
        "outputId": "bb749f35-f136-47d1-cde8-567317fa95dc"
      },
      "source": [
        "stats.norm.cdf(0.3, loc = x.mean(), scale = x.std())"
      ],
      "execution_count": null,
      "outputs": [
        {
          "output_type": "execute_result",
          "data": {
            "text/plain": [
              "0.6149916083555818"
            ]
          },
          "metadata": {
            "tags": []
          },
          "execution_count": 164
        }
      ]
    },
    {
      "cell_type": "code",
      "metadata": {
        "colab": {
          "base_uri": "https://localhost:8080/"
        },
        "id": "4nmHrP-DT3K5",
        "outputId": "68c2b761-9301-47fe-d7fc-a1ffdb7bce1b"
      },
      "source": [
        "stats.norm.pdf(0.3, loc = x.mean(), scale = x.std())"
      ],
      "execution_count": null,
      "outputs": [
        {
          "output_type": "execute_result",
          "data": {
            "text/plain": [
              "0.54393141406207"
            ]
          },
          "metadata": {
            "tags": []
          },
          "execution_count": 168
        }
      ]
    },
    {
      "cell_type": "code",
      "metadata": {
        "colab": {
          "base_uri": "https://localhost:8080/"
        },
        "id": "cKdxpHV4YuFn",
        "outputId": "5b6eef76-8d4b-4628-ecb0-7807d07e2880"
      },
      "source": [
        "stats.norm.ppf(0.05, loc = x.mean(), scale = x.std())"
      ],
      "execution_count": null,
      "outputs": [
        {
          "output_type": "execute_result",
          "data": {
            "text/plain": [
              "-1.06138897720052"
            ]
          },
          "metadata": {
            "tags": []
          },
          "execution_count": 175
        }
      ]
    },
    {
      "cell_type": "code",
      "metadata": {
        "colab": {
          "base_uri": "https://localhost:8080/"
        },
        "id": "UO1cXHLMYug_",
        "outputId": "0aaac5e1-5444-4893-bd00-c1fb2fced3a3"
      },
      "source": [
        "stats.norm.ppf(0.01, loc = x.mean(), scale = x.std())"
      ],
      "execution_count": null,
      "outputs": [
        {
          "output_type": "execute_result",
          "data": {
            "text/plain": [
              "-1.5403150609728593"
            ]
          },
          "metadata": {
            "tags": []
          },
          "execution_count": 176
        }
      ]
    },
    {
      "cell_type": "code",
      "metadata": {
        "colab": {
          "base_uri": "https://localhost:8080/"
        },
        "id": "-uuXCpCjYykN",
        "outputId": "96157398-ebfd-4455-d458-9d8fa2b9d9a6"
      },
      "source": [
        "stats.norm.ppf(0.95, loc = x.mean(), scale = x.std())"
      ],
      "execution_count": null,
      "outputs": [
        {
          "output_type": "execute_result",
          "data": {
            "text/plain": [
              "1.250481766533853"
            ]
          },
          "metadata": {
            "tags": []
          },
          "execution_count": 177
        }
      ]
    },
    {
      "cell_type": "code",
      "metadata": {
        "id": "0VZqjGrnY01L"
      },
      "source": [
        ""
      ],
      "execution_count": null,
      "outputs": []
    }
  ]
}